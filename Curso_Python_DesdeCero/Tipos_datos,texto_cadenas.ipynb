{
 "cells": [
  {
   "cell_type": "markdown",
   "id": "21811dc2",
   "metadata": {},
   "source": [
    "## Tutorial de Python con Jupyter Notebook"
   ]
  },
  {
   "cell_type": "markdown",
   "id": "aacd1296",
   "metadata": {},
   "source": [
    "**Objetivo:** Aprender a realizar programas simples en Python utilizando cuadernos de Jupyter."
   ]
  },
  {
   "cell_type": "markdown",
   "id": "b29741a9",
   "metadata": {},
   "source": [
    "# Python"
   ]
  },
  {
   "cell_type": "markdown",
   "id": "4e2a2b4d",
   "metadata": {},
   "source": [
    "Python en un lenguaje de alto nivel, multiparadigma y con tipado dinamico.\n",
    "\n",
    "Si bien se usa en varios ambitos, recientemente se ha convertido en el lenguaje mas utilizado para programacion cientifica, junti con las librerias **Numpy** (Matrices), **Matplotlib** (Visualizar datos) y otras."
   ]
  },
  {
   "cell_type": "markdown",
   "id": "1248eb59",
   "metadata": {},
   "source": [
    "### TIPOS DE DATOS \n",
    "\n",
    "#### Enteros\n",
    "#### Flotantes"
   ]
  },
  {
   "cell_type": "markdown",
   "id": "646e3bf2",
   "metadata": {},
   "source": [
    " **NUMEROS**"
   ]
  },
  {
   "cell_type": "code",
   "execution_count": 1,
   "id": "00da78c7",
   "metadata": {},
   "outputs": [
    {
     "data": {
      "text/plain": [
       "5"
      ]
     },
     "execution_count": 1,
     "metadata": {},
     "output_type": "execute_result"
    }
   ],
   "source": [
    "3+2"
   ]
  },
  {
   "cell_type": "code",
   "execution_count": 2,
   "id": "3c8107b6",
   "metadata": {},
   "outputs": [
    {
     "data": {
      "text/plain": [
       "4"
      ]
     },
     "execution_count": 2,
     "metadata": {},
     "output_type": "execute_result"
    }
   ],
   "source": [
    "8-4"
   ]
  },
  {
   "cell_type": "code",
   "execution_count": 3,
   "id": "461885ac",
   "metadata": {},
   "outputs": [
    {
     "data": {
      "text/plain": [
       "72"
      ]
     },
     "execution_count": 3,
     "metadata": {},
     "output_type": "execute_result"
    }
   ],
   "source": [
    "# Multiplicacion\n",
    "8*9"
   ]
  },
  {
   "cell_type": "code",
   "execution_count": 4,
   "id": "eb5daf40",
   "metadata": {},
   "outputs": [
    {
     "data": {
      "text/plain": [
       "1.1428571428571428"
      ]
     },
     "execution_count": 4,
     "metadata": {},
     "output_type": "execute_result"
    }
   ],
   "source": [
    "# Divicion\n",
    "8/7"
   ]
  },
  {
   "cell_type": "code",
   "execution_count": 5,
   "id": "b970e2b5",
   "metadata": {},
   "outputs": [
    {
     "data": {
      "text/plain": [
       "1"
      ]
     },
     "execution_count": 5,
     "metadata": {},
     "output_type": "execute_result"
    }
   ],
   "source": [
    "# Modulo\n",
    "3%2"
   ]
  },
  {
   "cell_type": "code",
   "execution_count": 6,
   "id": "7deaf982",
   "metadata": {},
   "outputs": [
    {
     "data": {
      "text/plain": [
       "9"
      ]
     },
     "execution_count": 6,
     "metadata": {},
     "output_type": "execute_result"
    }
   ],
   "source": [
    "# Potencia\n",
    "3**2"
   ]
  },
  {
   "cell_type": "code",
   "execution_count": 7,
   "id": "96a2d4d8",
   "metadata": {},
   "outputs": [
    {
     "data": {
      "text/plain": [
       "41"
      ]
     },
     "execution_count": 7,
     "metadata": {},
     "output_type": "execute_result"
    }
   ],
   "source": [
    "3-2+4*10"
   ]
  },
  {
   "cell_type": "code",
   "execution_count": 8,
   "id": "d97e6e7c",
   "metadata": {},
   "outputs": [
    {
     "name": "stdout",
     "output_type": "stream",
     "text": [
      "24\n"
     ]
    }
   ],
   "source": [
    "# Asignacion de un valor a una variable\n",
    "n = 3\n",
    "m = 8\n",
    "\n",
    "x = n * m\n",
    "print(x)"
   ]
  },
  {
   "cell_type": "code",
   "execution_count": 9,
   "id": "48626e5e",
   "metadata": {},
   "outputs": [
    {
     "data": {
      "text/plain": [
       "3"
      ]
     },
     "execution_count": 9,
     "metadata": {},
     "output_type": "execute_result"
    }
   ],
   "source": [
    "n"
   ]
  },
  {
   "cell_type": "code",
   "execution_count": 10,
   "id": "eac1d81e",
   "metadata": {},
   "outputs": [
    {
     "data": {
      "text/plain": [
       "8"
      ]
     },
     "execution_count": 10,
     "metadata": {},
     "output_type": "execute_result"
    }
   ],
   "source": [
    "m"
   ]
  },
  {
   "cell_type": "code",
   "execution_count": 11,
   "id": "5d571023",
   "metadata": {},
   "outputs": [
    {
     "data": {
      "text/plain": [
       "27"
      ]
     },
     "execution_count": 11,
     "metadata": {},
     "output_type": "execute_result"
    }
   ],
   "source": [
    "n+n*m"
   ]
  },
  {
   "cell_type": "markdown",
   "id": "9f883d8d",
   "metadata": {},
   "source": [
    "### Textos"
   ]
  },
  {
   "cell_type": "code",
   "execution_count": 12,
   "id": "e0dedb60",
   "metadata": {},
   "outputs": [
    {
     "data": {
      "text/plain": [
       "'Hola'"
      ]
     },
     "execution_count": 12,
     "metadata": {},
     "output_type": "execute_result"
    }
   ],
   "source": [
    "\"Hola\""
   ]
  },
  {
   "cell_type": "code",
   "execution_count": 13,
   "id": "7c451123",
   "metadata": {},
   "outputs": [
    {
     "data": {
      "text/plain": [
       "'Hola'"
      ]
     },
     "execution_count": 13,
     "metadata": {},
     "output_type": "execute_result"
    }
   ],
   "source": [
    "'Hola'"
   ]
  },
  {
   "cell_type": "code",
   "execution_count": 14,
   "id": "76de39ce",
   "metadata": {},
   "outputs": [
    {
     "data": {
      "text/plain": [
       "\"Esta 'palabra' esta entre comillas\""
      ]
     },
     "execution_count": 14,
     "metadata": {},
     "output_type": "execute_result"
    }
   ],
   "source": [
    "\"Esta 'palabra' esta entre comillas\""
   ]
  },
  {
   "cell_type": "code",
   "execution_count": 15,
   "id": "29787d11",
   "metadata": {},
   "outputs": [
    {
     "data": {
      "text/plain": [
       "'Esta \"palabra\" se encuentra entre comillas simples'"
      ]
     },
     "execution_count": 15,
     "metadata": {},
     "output_type": "execute_result"
    }
   ],
   "source": [
    "\"Esta \\\"palabra\\\" se encuentra entre comillas simples\""
   ]
  },
  {
   "cell_type": "code",
   "execution_count": 16,
   "id": "b912a184",
   "metadata": {},
   "outputs": [
    {
     "data": {
      "text/plain": [
       "\"Esta 'palabra' se encuentra entre comillas simples\""
      ]
     },
     "execution_count": 16,
     "metadata": {},
     "output_type": "execute_result"
    }
   ],
   "source": [
    "'Esta \\'palabra\\' se encuentra entre comillas simples'"
   ]
  },
  {
   "cell_type": "code",
   "execution_count": 17,
   "id": "075cac2a",
   "metadata": {},
   "outputs": [
    {
     "data": {
      "text/plain": [
       "'otra cadena mas'"
      ]
     },
     "execution_count": 17,
     "metadata": {},
     "output_type": "execute_result"
    }
   ],
   "source": [
    "\"Una cadena\"\n",
    "'otra cadena'\n",
    "'otra cadena mas'"
   ]
  },
  {
   "cell_type": "code",
   "execution_count": 18,
   "id": "8db92a84",
   "metadata": {},
   "outputs": [
    {
     "name": "stdout",
     "output_type": "stream",
     "text": [
      "Una cadena\n",
      "Otra cadena\n",
      "una cadena mas\n"
     ]
    }
   ],
   "source": [
    "print('Una cadena')\n",
    "print(\"Otra cadena\")\n",
    "print('una cadena mas')"
   ]
  },
  {
   "cell_type": "code",
   "execution_count": 19,
   "id": "a0a0984a",
   "metadata": {},
   "outputs": [
    {
     "name": "stdout",
     "output_type": "stream",
     "text": [
      "Un texto\t una tabulacion\n"
     ]
    }
   ],
   "source": [
    "# Tabulacion\n",
    "\n",
    "print(\"Un texto\\t una tabulacion\")"
   ]
  },
  {
   "cell_type": "code",
   "execution_count": 20,
   "id": "b4adfa03",
   "metadata": {},
   "outputs": [
    {
     "name": "stdout",
     "output_type": "stream",
     "text": [
      "Un texto\n",
      "nueva linea\n"
     ]
    }
   ],
   "source": [
    "# Salto de linea\n",
    "print(\"Un texto\\nnueva linea\")"
   ]
  },
  {
   "cell_type": "code",
   "execution_count": 21,
   "id": "74b14888",
   "metadata": {},
   "outputs": [
    {
     "name": "stdout",
     "output_type": "stream",
     "text": [
      "C:\n",
      "ombre\\directorio\n"
     ]
    }
   ],
   "source": [
    "print(\"C:\\nombre\\directorio\")"
   ]
  },
  {
   "cell_type": "code",
   "execution_count": 22,
   "id": "dae22908",
   "metadata": {},
   "outputs": [
    {
     "name": "stdout",
     "output_type": "stream",
     "text": [
      "C:\\nombre\\directorio\n"
     ]
    }
   ],
   "source": [
    "print(r\"C:\\nombre\\directorio\")"
   ]
  },
  {
   "cell_type": "code",
   "execution_count": 23,
   "id": "0130e895",
   "metadata": {},
   "outputs": [
    {
     "name": "stdout",
     "output_type": "stream",
     "text": [
      "Una linea\n",
      "otra mas\n",
      "por que no,otra mas\n",
      "y ya\n"
     ]
    }
   ],
   "source": [
    "print(\"\"\"Una linea\n",
    "otra mas\n",
    "por que no,otra mas\n",
    "y ya\"\"\")"
   ]
  },
  {
   "cell_type": "markdown",
   "id": "75b207ee",
   "metadata": {},
   "source": [
    "### Ejercicio de textos\n"
   ]
  },
  {
   "cell_type": "markdown",
   "id": "2bf773e1",
   "metadata": {},
   "source": [
    "Dadas cuatro variables con diferentes textos (cadena1, cadena2, cadena3 y cadena4) utiliza lo que has aprendido para generar una cadena5 con el siguiente contenido:\n",
    "\n",
    "Debes generar el contenido de cadena5 utilizando como origen el texto de las 4 primeras y el único carácter literal que puedes escribir son espacios \" \""
   ]
  },
  {
   "cell_type": "code",
   "execution_count": 24,
   "id": "a4c6138a",
   "metadata": {},
   "outputs": [
    {
     "name": "stdout",
     "output_type": "stream",
     "text": [
      "Python es un lenguaje de programación moderno\n"
     ]
    }
   ],
   "source": [
    "# no modifiques el nombre de ninguna variable, pero puedes crear nuevas\n",
    "cadena1 = \"moderno\"\n",
    "cadena2 = \"Python\"\n",
    "cadena4 = \"de programación\"\n",
    "cadena3 = \"es un lenguaje\"\n",
    "\n",
    "# completa el ejercicio\n",
    "cadena5 = cadena2 + \" \" + cadena3 + \" \" + cadena4 + \" \" + cadena1\n",
    "print(cadena5)"
   ]
  },
  {
   "cell_type": "markdown",
   "id": "13f3a937",
   "metadata": {},
   "source": [
    "### Cadenas"
   ]
  },
  {
   "cell_type": "code",
   "execution_count": 25,
   "id": "c779725d",
   "metadata": {},
   "outputs": [],
   "source": [
    "c = \"Esto es una cadena\\ncon dos lineas\""
   ]
  },
  {
   "cell_type": "code",
   "execution_count": 26,
   "id": "ae0239d1",
   "metadata": {},
   "outputs": [
    {
     "data": {
      "text/plain": [
       "'Esto es una cadena\\ncon dos lineas'"
      ]
     },
     "execution_count": 26,
     "metadata": {},
     "output_type": "execute_result"
    }
   ],
   "source": [
    "c"
   ]
  },
  {
   "cell_type": "code",
   "execution_count": 27,
   "id": "de694263",
   "metadata": {},
   "outputs": [
    {
     "name": "stdout",
     "output_type": "stream",
     "text": [
      "Esto es una cadena\n",
      "con dos lineas\n"
     ]
    }
   ],
   "source": [
    "print(c)"
   ]
  },
  {
   "cell_type": "code",
   "execution_count": 28,
   "id": "115dbae5",
   "metadata": {},
   "outputs": [
    {
     "data": {
      "text/plain": [
       "'Esto es una cadena\\ncon dos lineasEsto es una cadena\\ncon dos lineas'"
      ]
     },
     "execution_count": 28,
     "metadata": {},
     "output_type": "execute_result"
    }
   ],
   "source": [
    "c+c"
   ]
  },
  {
   "cell_type": "code",
   "execution_count": 29,
   "id": "c9c776e1",
   "metadata": {},
   "outputs": [
    {
     "name": "stdout",
     "output_type": "stream",
     "text": [
      "Esto es una cadena\n",
      "con dos lineasEsto es una cadena\n",
      "con dos lineas\n"
     ]
    }
   ],
   "source": [
    "print(c+c)"
   ]
  },
  {
   "cell_type": "code",
   "execution_count": 30,
   "id": "eafd41b1",
   "metadata": {},
   "outputs": [
    {
     "name": "stdout",
     "output_type": "stream",
     "text": [
      "Una cadenacompuesta de dos cadenas\n"
     ]
    }
   ],
   "source": [
    "s = \"Una cadena\" \"compuesta de dos cadenas\"\n",
    "print(s)"
   ]
  },
  {
   "cell_type": "code",
   "execution_count": 32,
   "id": "b6b5348a",
   "metadata": {},
   "outputs": [
    {
     "name": "stdout",
     "output_type": "stream",
     "text": [
      "una cadena otra cadena\n"
     ]
    }
   ],
   "source": [
    "c1 = \"Una cadena\"\n",
    "c2 = \"otra cadena\"\n",
    "print(\"una cadena \" + c2)"
   ]
  },
  {
   "cell_type": "code",
   "execution_count": 35,
   "id": "423a659e",
   "metadata": {},
   "outputs": [
    {
     "name": "stdout",
     "output_type": "stream",
     "text": [
      "          un texto a diez espacios\n"
     ]
    }
   ],
   "source": [
    "diez_espacios = \" \" * 10\n",
    "print(diez_espacios + \"un texto a diez espacios\")"
   ]
  },
  {
   "cell_type": "code",
   "execution_count": 36,
   "id": "2ce93f18",
   "metadata": {},
   "outputs": [],
   "source": [
    "palabra = \"Python\""
   ]
  },
  {
   "cell_type": "code",
   "execution_count": 37,
   "id": "f5718b93",
   "metadata": {},
   "outputs": [
    {
     "data": {
      "text/plain": [
       "'P'"
      ]
     },
     "execution_count": 37,
     "metadata": {},
     "output_type": "execute_result"
    }
   ],
   "source": [
    "palabra[0] # caracter en la posicion 0"
   ]
  },
  {
   "cell_type": "code",
   "execution_count": 38,
   "id": "9f0c7157",
   "metadata": {},
   "outputs": [
    {
     "data": {
      "text/plain": [
       "'h'"
      ]
     },
     "execution_count": 38,
     "metadata": {},
     "output_type": "execute_result"
    }
   ],
   "source": [
    "palabra[3]"
   ]
  },
  {
   "cell_type": "code",
   "execution_count": 39,
   "id": "8e1b0917",
   "metadata": {},
   "outputs": [
    {
     "data": {
      "text/plain": [
       "'P'"
      ]
     },
     "execution_count": 39,
     "metadata": {},
     "output_type": "execute_result"
    }
   ],
   "source": [
    "palabra[-0]"
   ]
  },
  {
   "cell_type": "code",
   "execution_count": 40,
   "id": "5f135f41",
   "metadata": {},
   "outputs": [
    {
     "data": {
      "text/plain": [
       "'n'"
      ]
     },
     "execution_count": 40,
     "metadata": {},
     "output_type": "execute_result"
    }
   ],
   "source": [
    "palabra[-1]"
   ]
  },
  {
   "cell_type": "code",
   "execution_count": 41,
   "id": "962ffa01",
   "metadata": {},
   "outputs": [
    {
     "data": {
      "text/plain": [
       "'o'"
      ]
     },
     "execution_count": 41,
     "metadata": {},
     "output_type": "execute_result"
    }
   ],
   "source": [
    "palabra[-2]"
   ]
  },
  {
   "cell_type": "code",
   "execution_count": 42,
   "id": "e762ec58",
   "metadata": {},
   "outputs": [
    {
     "data": {
      "text/plain": [
       "'n'"
      ]
     },
     "execution_count": 42,
     "metadata": {},
     "output_type": "execute_result"
    }
   ],
   "source": [
    "palabra[5]"
   ]
  },
  {
   "cell_type": "code",
   "execution_count": 43,
   "id": "1bbfba16",
   "metadata": {},
   "outputs": [],
   "source": [
    "palabra = \"Python\""
   ]
  },
  {
   "cell_type": "code",
   "execution_count": 44,
   "id": "4cd4e3b2",
   "metadata": {},
   "outputs": [
    {
     "data": {
      "text/plain": [
       "'Py'"
      ]
     },
     "execution_count": 44,
     "metadata": {},
     "output_type": "execute_result"
    }
   ],
   "source": [
    "palabra[0:2] # El ultimo lugar no lo cuenta."
   ]
  },
  {
   "cell_type": "code",
   "execution_count": 46,
   "id": "bbbdcde5",
   "metadata": {},
   "outputs": [
    {
     "data": {
      "text/plain": [
       "'thon'"
      ]
     },
     "execution_count": 46,
     "metadata": {},
     "output_type": "execute_result"
    }
   ],
   "source": [
    "palabra[2:]"
   ]
  },
  {
   "cell_type": "code",
   "execution_count": 47,
   "id": "5557160a",
   "metadata": {},
   "outputs": [
    {
     "data": {
      "text/plain": [
       "'Py'"
      ]
     },
     "execution_count": 47,
     "metadata": {},
     "output_type": "execute_result"
    }
   ],
   "source": [
    "palabra[:2]"
   ]
  },
  {
   "cell_type": "code",
   "execution_count": 48,
   "id": "c38a3495",
   "metadata": {},
   "outputs": [
    {
     "data": {
      "text/plain": [
       "'Python'"
      ]
     },
     "execution_count": 48,
     "metadata": {},
     "output_type": "execute_result"
    }
   ],
   "source": [
    "palabra[:]"
   ]
  },
  {
   "cell_type": "code",
   "execution_count": 49,
   "id": "203a23fd",
   "metadata": {},
   "outputs": [
    {
     "data": {
      "text/plain": [
       "'Nython'"
      ]
     },
     "execution_count": 49,
     "metadata": {},
     "output_type": "execute_result"
    }
   ],
   "source": [
    "palabra = \"N\" + palabra[1:]\n",
    "palabra"
   ]
  },
  {
   "cell_type": "code",
   "execution_count": 50,
   "id": "15d8bb3d",
   "metadata": {},
   "outputs": [
    {
     "data": {
      "text/plain": [
       "6"
      ]
     },
     "execution_count": 50,
     "metadata": {},
     "output_type": "execute_result"
    }
   ],
   "source": [
    "len(palabra) #len centa el total de caracteres en una cadena"
   ]
  },
  {
   "cell_type": "markdown",
   "id": "6ae5aa7b",
   "metadata": {},
   "source": [
    "### Ejercicio de cadenas."
   ]
  },
  {
   "cell_type": "markdown",
   "id": "d8da5217",
   "metadata": {},
   "source": [
    "Slicing\n",
    "\n",
    "Al realizar una consulta en un registro hemos obtenido una cadena de texto al revés. Al parecer contiene el nombre de un alumno, la nota de un exámen y la materia. Realiza lo siguiente:\n",
    "\n",
    "    Voltea la cadena y guárdala en una variable llamada cadena_volteada. Puedes devolver una cadena volteada usando un tercer índice negativo con slicing tal que así: cadena[::-1]\n",
    "\n",
    "    Extrae el nombre y apellido del alumno y almacénalos en una variable llamada nombre.\n",
    "\n",
    "    Extrae la nota y almacénala en una variable llamada nota.\n",
    "\n",
    "    Extrae la materia y almacénala en una variable llamada materia.\n",
    "\n",
    "    Genera exactamente la siguiente estructura formateando las anteriores variables en una cadena llamada cadena_formateada donde nombre, nota y materia hacen referencia a las variables extraídas:\n",
    "\n",
    "    {nombre} ha sacado un {nota} en {materia}\n",
    "\n",
    "Ejemplo:\n",
    "\n",
    "    Ramón García ha sacado un 8.1 en Matemáticas\n",
    "\n",
    "Notas y consejos:\n",
    "\n",
    "    Todas las variables del enunciado deben existir y contener el valor correcto para pasar las pruebas.\n",
    "\n",
    "    Utiliza slicing para extraer las porciones de la cadena que te interesan.\n",
    "\n",
    "    Crea tantas variables como necesites para hacerlo más sencillo."
   ]
  },
  {
   "cell_type": "code",
   "execution_count": 52,
   "id": "8ab4443f",
   "metadata": {},
   "outputs": [
    {
     "data": {
      "text/plain": [
       "25"
      ]
     },
     "execution_count": 52,
     "metadata": {},
     "output_type": "execute_result"
    }
   ],
   "source": [
    "# Variables del ejercicio (no las modifiques)\n",
    "cadena_corrupta = \"airotsiH,6.7,aícraG nómaR\"\n",
    "\n",
    "# Completa el ejercicio\n",
    "len(cadena_corrupta)"
   ]
  },
  {
   "cell_type": "code",
   "execution_count": 66,
   "id": "ff1eae84",
   "metadata": {},
   "outputs": [],
   "source": [
    "cadena_volteada = cadena_corrupta[::-1]"
   ]
  },
  {
   "cell_type": "code",
   "execution_count": 71,
   "id": "a74c31d7",
   "metadata": {},
   "outputs": [
    {
     "name": "stdout",
     "output_type": "stream",
     "text": [
      "Ramón García,7.6,Historia\n"
     ]
    }
   ],
   "source": [
    "print(cadena_volteada)"
   ]
  },
  {
   "cell_type": "code",
   "execution_count": 67,
   "id": "4b1f1ae3",
   "metadata": {},
   "outputs": [],
   "source": [
    "nombre = cadena_volteada[:12]"
   ]
  },
  {
   "cell_type": "code",
   "execution_count": 68,
   "id": "45006f33",
   "metadata": {},
   "outputs": [
    {
     "name": "stdout",
     "output_type": "stream",
     "text": [
      "Ramón García\n"
     ]
    }
   ],
   "source": [
    "print(nombre)"
   ]
  },
  {
   "cell_type": "code",
   "execution_count": 69,
   "id": "4321842c",
   "metadata": {},
   "outputs": [],
   "source": [
    "nota = cadena_volteada[13:16]"
   ]
  },
  {
   "cell_type": "code",
   "execution_count": 70,
   "id": "4c0ad904",
   "metadata": {},
   "outputs": [
    {
     "name": "stdout",
     "output_type": "stream",
     "text": [
      "7.6\n"
     ]
    }
   ],
   "source": [
    "print(nota)"
   ]
  },
  {
   "cell_type": "code",
   "execution_count": 72,
   "id": "3510166f",
   "metadata": {},
   "outputs": [],
   "source": [
    "materia = cadena_volteada[17:]"
   ]
  },
  {
   "cell_type": "code",
   "execution_count": 73,
   "id": "af260767",
   "metadata": {},
   "outputs": [
    {
     "name": "stdout",
     "output_type": "stream",
     "text": [
      "Historia\n"
     ]
    }
   ],
   "source": [
    "print(materia)"
   ]
  },
  {
   "cell_type": "code",
   "execution_count": 75,
   "id": "31288556",
   "metadata": {},
   "outputs": [
    {
     "name": "stdout",
     "output_type": "stream",
     "text": [
      "Ramón Garcíaha sacado un 7.6 en la materia de Historia\n"
     ]
    }
   ],
   "source": [
    "cadena_final = nombre + \"ha sacado un \" + nota + \" en la materia de \" + materia\n",
    "print(cadena_final)"
   ]
  },
  {
   "cell_type": "code",
   "execution_count": 77,
   "id": "b33257ac",
   "metadata": {},
   "outputs": [
    {
     "name": "stdout",
     "output_type": "stream",
     "text": [
      "Ramón García ha sacado un 7.6 en Historia\n"
     ]
    }
   ],
   "source": [
    "# Variables del ejercicio (no las modifiques)\n",
    "cadena_corrupta = \"airotsiH,6.7,aícraG nómaR\"\n",
    "\n",
    "# Completa el ejercicio\n",
    "cadena_volteada = cadena_corrupta[::-1]\n",
    "nombre = cadena_volteada[:12]\n",
    "nota = cadena_volteada[13:16]\n",
    "materia = cadena_volteada[17:25]\n",
    "\n",
    "cadena_formateada = nombre + \" ha sacado un \" + nota + \" en \" + materia\n",
    "print(cadena_formateada)"
   ]
  },
  {
   "cell_type": "code",
   "execution_count": null,
   "id": "7dc79343",
   "metadata": {},
   "outputs": [],
   "source": []
  }
 ],
 "metadata": {
  "kernelspec": {
   "display_name": "Python 3 (ipykernel)",
   "language": "python",
   "name": "python3"
  },
  "language_info": {
   "codemirror_mode": {
    "name": "ipython",
    "version": 3
   },
   "file_extension": ".py",
   "mimetype": "text/x-python",
   "name": "python",
   "nbconvert_exporter": "python",
   "pygments_lexer": "ipython3",
   "version": "3.11.3"
  }
 },
 "nbformat": 4,
 "nbformat_minor": 5
}
